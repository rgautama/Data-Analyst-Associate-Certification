{
 "cells": [
  {
   "cell_type": "markdown",
   "id": "a5b3bc0e-b993-4ee3-bd07-825a474bd0d9",
   "metadata": {
    "tags": []
   },
   "source": [
    "# Data Analyst Associate Case Study Submission\n",
    "\n",
    "**You can use any tool that you want to do your analysis and create visualizations. Use this template to write up your summary for submission.**\n",
    "\n",
    "You can use any markdown formatting you wish. If you are not familiar with Markdown, read the [Markdown Guide](https://s3.amazonaws.com/talent-assets.datacamp.com/Markdown+Guide.pdf) before you start.\n"
   ]
  },
  {
   "cell_type": "markdown",
   "id": "d1b1a012-1ccb-40e7-a1ad-77b60b256690",
   "metadata": {
    "jp-MarkdownHeadingCollapsed": true,
    "tags": []
   },
   "source": [
    "## Data Validation\n",
    "Describe the validation tasks you performed and what you found. Have you made any changes to the data to enable further analysis? Remember to describe what you did for every column in the data. "
   ]
  },
  {
   "cell_type": "markdown",
   "id": "135fd129",
   "metadata": {},
   "source": [
    "The pet sales data has 879 rows and 9 columns. First, I used excel to clean the data, removing the rows that should not included in the analysis based on the dataset provided. As a result, I deleted 46 rows because the pet type is not one of \"cat\", \"dog\", \"fish\", \"bird\". This leaves 833 rows of data. I also made sure that all the data types from the different columns matches the criteria given in the instruction. I also checked to make sure the rest of the columns were following the instructions:\n",
    "\n",
    "- Product ID has the character data type, and values are unique, as expected.\n",
    "- There are 11 unique product categories (Accessory, Bedding, Clothes, Equipment, Food, Grooming, Housing, Medicine, Snack, Supplement, and Toys) as expected. \n",
    "- Converted sales to numeric data type just like the criteria in the data dictionary.\n",
    "- Price is in numeric values, as expected\n",
    "- Vendor ID is in character, and values are unique, as expected. \n",
    "- Pet Size is in character, like expected. The category has 5 unique values (\"extra small, \"small\", \"medium\", \"large\", \"extra large\")\n",
    "- Pet Types is in character, as expected. But, in the original data set there were 6 unique Pet Types: \"cat\", \"dog\", \"fish\", \"bird\", \"hamster\" and \"rabbit\". After data cleaning, all the rows with Pet Types \"hamster\" and \"rabbit\" are deleted as mentioned in the above paragraph, leaving 4 unique Pet Types.\n",
    "- Ratings are numeric and on a 10 point scale (1-10)\n",
    "- Re-Buy is Binary (1 is for product purchased more than once, 0 is not)"
   ]
  },
  {
   "cell_type": "markdown",
   "id": "714a7083-7a43-4b0b-8ed4-2675efc87691",
   "metadata": {
    "tags": []
   },
   "source": [
    "## Data Discovery and Visualization\n",
    "Describe what you found in the analysis and how the visualizations answer the customer questions in the project brief. In your description you should:\n",
    "- Include at least two different data visualizations to demonstrate the characteristics of variables\n",
    "- Include at least one data visualization to demonstrate the relationship between two or more variables\n",
    "- Describe how your analysis has answered the business questions in the project brief\n",
    "\n",
    "## How many products are being purchased more than once?\n",
    "\n",
    "To determine whether a product is purchased more than once, we have to look at the Rebuy column where Rebuy = 1 and count how many products there are. In total, there are 390 products that are being purchased more than once. The graph shows the number of products purchased once (443) and products purchased more than once (390).\n",
    "![countsales](countsales.png)\n",
    "\n",
    "## Do the products being purchased again have better sales than others?\n",
    "Yes. Although in hindsight, we can see that products that are being purchased again have lower total sales than those who are not. Products that are not purchased more than once have total sales of 51,125,000. On the otherhand, products purchased more than once have total sales of 45,587,000. However, this is an unfair comparison since there are more products that are purchased once (443 rows) compared to products that are purchased more than once(390 rows). To have a fair comparison, I took the average sales of all the data and compare them to the average sales of re-buy = 1 and re-buy = 0 respectively to see if the averages are higher or lower than the average of all data points. The average sales of all the data points is 116,100.84. The average sales of products purchased once (re-buy = 0) is 115,406.32. The average sales of products purchased more than once (re-buy = 1) is 116,889.74. Through this, we can see that the average for products that are being purchased again is higher than products purchased once. Hence, this shows that products being purchased again have better sales than others. \n",
    "\n",
    "![avgsales](avgsales.png)\n",
    "\n",
    "\n",
    "## What products are more likely to be purchased again for different types of pets?\n",
    "First, I wanted to know how many total purchases are made in for different types of pets categorized by whether or not the products were only purchased once (re-buy = 0) or more than once (re-buy). The stacked bar charts shows the number of products purchased once (re-buy = 0) and products purchased more than once (re-buy = 1) for each of the different pet types. The graph shows that:\n",
    "\n",
    "- For pet type \"birds\", there are 41 total number of products that were purchased once and 28 total number of products that were purchased more than once. \n",
    "- For pet type \"cat\", there are 182 total number of products that were purchased once and 165 total number of products that were purchased more than once.\n",
    "- For pet type \"dog\", there are 177 total number of products that were purchased once and 170 total number of products that were purchased more than once.\n",
    "- For pet type \"fish\", there are 43 total number of products that were purchased once and 27 total number of products that were purchased more than once.\n",
    "\n",
    "![stackedbarchart](stackedbarchart.png)\n",
    "\n",
    "Focusing just on the products that were purchased more than once for each pet type, we can see that the \"dog\" has the highest number of products that were purchased more than once. \n",
    "![petproduct](petproduct.png)\n",
    "\n",
    "Then I deep dived into the data to figure out which product category each pet has the highest product rebuy. \n",
    "For cats, equipment is the product category with the highest number of repeat purchase.\n",
    "\n",
    "![catrebuy](catrebuy.png)\n",
    "\n",
    "For dogs, equipment is the product category with the highest number of repeat purchase. \n",
    "\n",
    "![dogrebuy](dogrebuy.png)\n",
    "\n",
    "For fish, snack is the product category with the highest number of repeat purchase. \n",
    "\n",
    "![fishrebuy](fishrebuy.png)\n",
    "\n",
    "For bird, the product category with the highest number of repeat purchases are equipment, snack and toy.\n",
    "![birdrebuy](birdrebuy.png)\n",
    "\n"
   ]
  },
  {
   "cell_type": "markdown",
   "id": "f635131a-00f8-44dd-b610-509db41c1154",
   "metadata": {
    "tags": []
   },
   "source": [
    "## ✅ When you have finished...\n",
    "-  Publish your Workspace using the option on the left\n",
    "-  Check the published version of your report:\n",
    "\t-  Can you see everything you want us to grade?\n",
    "    -  Are all the graphics visible?\n",
    "-  Review the grading rubric. Have you included everything that will be graded?\n",
    "-  Head back to the [Certification Dashboard](https://app.datacamp.com/certification) to submit your case study"
   ]
  }
 ],
 "metadata": {
  "colab": {
   "name": "Welcome to DataCamp Workspaces.ipynb",
   "provenance": []
  },
  "kernelspec": {
   "display_name": "Python 3 (ipykernel)",
   "language": "python",
   "name": "python3"
  },
  "language_info": {
   "codemirror_mode": {
    "name": "ipython",
    "version": 3
   },
   "file_extension": ".py",
   "mimetype": "text/x-python",
   "name": "python",
   "nbconvert_exporter": "python",
   "pygments_lexer": "ipython3",
   "version": "3.9.13"
  },
  "toc": {
   "base_numbering": 1,
   "nav_menu": {},
   "number_sections": true,
   "sideBar": true,
   "skip_h1_title": false,
   "title_cell": "Table of Contents",
   "title_sidebar": "Contents",
   "toc_cell": false,
   "toc_position": {},
   "toc_section_display": true,
   "toc_window_display": false
  }
 },
 "nbformat": 4,
 "nbformat_minor": 5
}
